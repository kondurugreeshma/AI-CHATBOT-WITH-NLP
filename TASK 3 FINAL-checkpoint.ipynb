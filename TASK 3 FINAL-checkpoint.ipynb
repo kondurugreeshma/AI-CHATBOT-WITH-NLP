{
 "cells": [
  {
   "cell_type": "code",
   "execution_count": null,
   "id": "feeb5c57-4f53-4531-9412-9270fdfa3456",
   "metadata": {},
   "outputs": [
    {
     "name": "stderr",
     "output_type": "stream",
     "text": [
      "[nltk_data] Downloading package punkt to C:\\Users\\greeshma\n",
      "[nltk_data]     k\\AppData\\Roaming\\nltk_data...\n",
      "[nltk_data]   Package punkt is already up-to-date!\n"
     ]
    },
    {
     "name": "stdout",
     "output_type": "stream",
     "text": [
      "Chatbot: Hello! How can I help you today? Type 'bye' to end the conversation.\n"
     ]
    },
    {
     "name": "stdin",
     "output_type": "stream",
     "text": [
      "greesh:  HELLO\n"
     ]
    },
    {
     "name": "stdout",
     "output_type": "stream",
     "text": [
      "Chatbot: Hi! How can I help you?\n"
     ]
    },
    {
     "name": "stdin",
     "output_type": "stream",
     "text": [
      "greesh:  HIII\n"
     ]
    },
    {
     "name": "stdout",
     "output_type": "stream",
     "text": [
      "Chatbot: Hello! How can I assist you today?\n"
     ]
    },
    {
     "name": "stdin",
     "output_type": "stream",
     "text": [
      "greesh:  HOW ARE U??\n"
     ]
    },
    {
     "name": "stdout",
     "output_type": "stream",
     "text": [
      "Chatbot: I am sorry, I didn’t understand that. Could you rephrase your question?\n"
     ]
    },
    {
     "name": "stdin",
     "output_type": "stream",
     "text": [
      "greesh:  WHAT ARE U DOING??\n"
     ]
    },
    {
     "name": "stdout",
     "output_type": "stream",
     "text": [
      "Chatbot: I am sorry, I didn’t understand that. Could you rephrase your question?\n"
     ]
    },
    {
     "name": "stdin",
     "output_type": "stream",
     "text": [
      "greesh:  BYEE\n"
     ]
    },
    {
     "name": "stdout",
     "output_type": "stream",
     "text": [
      "Chatbot: Goodbye! Have a great day ahead!\n"
     ]
    },
    {
     "name": "stdin",
     "output_type": "stream",
     "text": [
      "greesh:  BYEE\n"
     ]
    },
    {
     "name": "stdout",
     "output_type": "stream",
     "text": [
      "Chatbot: See you later!\n"
     ]
    },
    {
     "name": "stdin",
     "output_type": "stream",
     "text": [
      "greesh:  BYEEE\n"
     ]
    },
    {
     "name": "stdout",
     "output_type": "stream",
     "text": [
      "Chatbot: See you later!\n"
     ]
    },
    {
     "name": "stdin",
     "output_type": "stream",
     "text": [
      "greesh:  GOOD BYE\n"
     ]
    },
    {
     "name": "stdout",
     "output_type": "stream",
     "text": [
      "Chatbot: I am sorry, I didn’t understand that. Could you rephrase your question?\n"
     ]
    },
    {
     "name": "stdin",
     "output_type": "stream",
     "text": [
      "greesh:  BYEE\n"
     ]
    },
    {
     "name": "stdout",
     "output_type": "stream",
     "text": [
      "Chatbot: See you later!\n"
     ]
    }
   ],
   "source": [
    "# Step 1: Install the necessary libraries (if not installed)\n",
    "# !pip install nltk\n",
    "\n",
    "# Step 2: Import required libraries\n",
    "import nltk\n",
    "from nltk.chat.util import Chat, reflections\n",
    "\n",
    "# Step 3: Fix NLTK data download issue\n",
    "# Either manually download 'punkt' using nltk.download('punkt') OR set a new directory\n",
    "nltk.download('punkt')  # Ensure punkt is downloaded\n",
    "\n",
    "# Step 4: Define chatbot patterns and responses with better regex\n",
    "pairs = [\n",
    "    (r'hi|hello|hey|hii|helloo|helloooo', ['Hello! How can I assist you today?', 'Hi! How can I help you?']),\n",
    "    (r'what is (your|ur) name\\??', ['I am a chatbot created to assist you!', 'I am your friendly assistant.']),\n",
    "    (r'how are you\\??', ['I am just a bot, but I am doing well! How about you?', 'I am good, thanks for asking!']),\n",
    "    (r'bye|goodbye', ['Goodbye! Have a great day ahead!', 'See you later!']),\n",
    "    (r'what is (your|ur) purpose\\??', ['My purpose is to assist you with information and answer questions.',\n",
    "                                       'I am here to help you with anything you need!']),\n",
    "    (r'who created (you|u)\\??', ['I was created by developers and engineers specializing in AI and NLP.',\n",
    "                                 'I was built by engineers who wanted to create a helpful AI assistant.']),\n",
    "    (r'what is (your|ur) age\\??', ['I am just a bot, so I don’t have an age!', 'I am timeless!']),\n",
    "    (r'(.*)', ['I am sorry, I didn’t understand that. Could you rephrase your question?']),\n",
    "]\n",
    "\n",
    "# Step 5: Create a function to initialize and run the chatbot\n",
    "def create_chatbot():\n",
    "    print(\"Chatbot: Hello! How can I help you today? Type 'bye' to end the conversation.\")\n",
    "    \n",
    "    # Initialize the Chat object with the defined pairs and reflections\n",
    "    chatbot = Chat(pairs, reflections)\n",
    "    \n",
    "    # Start a loop for continuous conversation\n",
    "    while True:\n",
    "        # Take user input\n",
    "        user_input = input(\"greesh: \").lower()  # Convert to lowercase for better matching\n",
    "        \n",
    "        # If the user types 'bye' or 'goodbye', end the conversation\n",
    "        if user_input in ['bye', 'goodbye']:\n",
    "            print(\"Chatbot: Goodbye! Have a great day!\")\n",
    "            break\n",
    "        \n",
    "        # Otherwise, get the response from the chatbot\n",
    "        response = chatbot.respond(user_input)\n",
    "        \n",
    "        # Display the chatbot's response\n",
    "        print(\"Chatbot:\", response)\n",
    "\n",
    "# Step 6: Run the chatbot function\n",
    "create_chatbot()\n"
   ]
  },
  {
   "cell_type": "code",
   "execution_count": null,
   "id": "4e99e323-acc5-42f3-a855-a6b942fd968c",
   "metadata": {},
   "outputs": [],
   "source": []
  }
 ],
 "metadata": {
  "kernelspec": {
   "display_name": "Python [conda env:base] *",
   "language": "python",
   "name": "conda-base-py"
  },
  "language_info": {
   "codemirror_mode": {
    "name": "ipython",
    "version": 3
   },
   "file_extension": ".py",
   "mimetype": "text/x-python",
   "name": "python",
   "nbconvert_exporter": "python",
   "pygments_lexer": "ipython3",
   "version": "3.12.7"
  }
 },
 "nbformat": 4,
 "nbformat_minor": 5
}
