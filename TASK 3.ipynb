{
 "cells": [
  {
   "cell_type": "code",
   "execution_count": 3,
   "id": "b89f591d-6980-4ad9-9204-5bf85ab7f5fe",
   "metadata": {},
   "outputs": [
    {
     "name": "stderr",
     "output_type": "stream",
     "text": [
      "[nltk_data] Downloading package punkt to\n",
      "[nltk_data]     C:/Users/greeshma/nltk_data...\n"
     ]
    },
    {
     "name": "stdout",
     "output_type": "stream",
     "text": [
      "Error downloading punkt: [WinError 5] Access is denied: 'C:/Users/greeshma'\n",
      "Chatbot: Hello! How can I help you today? Type 'bye' to end the conversation.\n"
     ]
    },
    {
     "name": "stdin",
     "output_type": "stream",
     "text": [
      "You:  hii\n"
     ]
    },
    {
     "name": "stdout",
     "output_type": "stream",
     "text": [
      "Chatbot: Hi! How can I help you?\n"
     ]
    },
    {
     "name": "stdin",
     "output_type": "stream",
     "text": [
      "You:  helloo\n"
     ]
    },
    {
     "name": "stdout",
     "output_type": "stream",
     "text": [
      "Chatbot: Hi! How can I help you?\n"
     ]
    },
    {
     "name": "stdin",
     "output_type": "stream",
     "text": [
      "You:  what is ur name?\n"
     ]
    },
    {
     "name": "stdout",
     "output_type": "stream",
     "text": [
      "Chatbot: I am sorry, I didn’t understand that. Could you rephrase your question?\n"
     ]
    },
    {
     "name": "stdin",
     "output_type": "stream",
     "text": [
      "You:  what is ur age?\n"
     ]
    },
    {
     "name": "stdout",
     "output_type": "stream",
     "text": [
      "Chatbot: I am sorry, I didn’t understand that. Could you rephrase your question?\n"
     ]
    },
    {
     "name": "stdin",
     "output_type": "stream",
     "text": [
      "You:  helloooo\n"
     ]
    },
    {
     "name": "stdout",
     "output_type": "stream",
     "text": [
      "Chatbot: Hello! How can I assist you today?\n"
     ]
    },
    {
     "name": "stdin",
     "output_type": "stream",
     "text": [
      "You:  hii chatbot\n"
     ]
    },
    {
     "name": "stdout",
     "output_type": "stream",
     "text": [
      "Chatbot: Hi! How can I help you?\n"
     ]
    },
    {
     "name": "stdin",
     "output_type": "stream",
     "text": [
      "You:  bye\n"
     ]
    },
    {
     "name": "stdout",
     "output_type": "stream",
     "text": [
      "Chatbot: Goodbye! Have a great day!\n"
     ]
    }
   ],
   "source": [
    "# Step 1: Install the necessary libraries (uncomment if necessary)\n",
    "# !pip install nltk\n",
    "\n",
    "# Step 2: Import required libraries\n",
    "import nltk\n",
    "from nltk.chat.util import Chat, reflections\n",
    "\n",
    "# Step 3: Fix NLTK data download and set custom download directory (if needed)\n",
    "# You can change this path to a valid directory of your choice.\n",
    "\n",
    "nltk_data_path = 'C:/Users/greeshma/nltk_data'  # Replace this path if necessary\n",
    "\n",
    "# Add custom path to nltk's data path\n",
    "nltk.data.path.append(nltk_data_path)\n",
    "\n",
    "# Step 4: Download necessary NLTK resources\n",
    "try:\n",
    "    # Downloading the punkt tokenizer if it's not already available\n",
    "    nltk.download('punkt', download_dir=nltk_data_path)\n",
    "    print(\"punkt resource downloaded successfully!\")\n",
    "except Exception as e:\n",
    "    print(f\"Error downloading punkt: {e}\")\n",
    "\n",
    "# Step 5: Define chatbot patterns and responses\n",
    "# Patterns should be regular expressions, and responses should be a list of possible responses.\n",
    "pairs = [\n",
    "    (r'hi|hello|hey', ['Hello! How can I assist you today?', 'Hi! How can I help you?']),\n",
    "    (r'what is your name?', ['I am a chatbot created to assist you!', 'I am your friendly assistant.']),\n",
    "    (r'how are you?', ['I am just a bot, but I am doing well! How about you?', 'I am good, thanks for asking!']),\n",
    "    (r'bye|goodbye', ['Goodbye! Have a great day ahead!', 'See you later!']),\n",
    "    (r'what is your purpose?', ['My purpose is to assist you with information and answer questions.',\n",
    "                               'I am here to help you with anything you need!']),\n",
    "    (r'who created you?', ['I was created by developers and engineers specializing in AI and NLP.',\n",
    "                           'I was built by engineers who wanted to create a helpful AI assistant.']),\n",
    "    (r'(.*)', ['I am sorry, I didn’t understand that. Could you rephrase your question?']),\n",
    "]\n",
    "\n",
    "# Step 6: Create a function to initialize and run the chatbot\n",
    "def create_chatbot():\n",
    "    print(\"Chatbot: Hello! How can I help you today? Type 'bye' to end the conversation.\")\n",
    "    \n",
    "    # Initialize the Chat object with the defined pairs and reflections\n",
    "    chatbot = Chat(pairs, reflections)\n",
    "    \n",
    "    # Start a loop for continuous conversation\n",
    "    while True:\n",
    "        # Take user input\n",
    "        user_input = input(\"You: \")\n",
    "        \n",
    "        # If the user types 'bye' or 'goodbye', end the conversation\n",
    "        if user_input.lower() in ['bye', 'goodbye']:\n",
    "            print(\"Chatbot: Goodbye! Have a great day!\")\n",
    "            break\n",
    "        \n",
    "        # Otherwise, get the response from the chatbot\n",
    "        response = chatbot.respond(user_input)\n",
    "        \n",
    "        # Display the chatbot's response\n",
    "        print(\"Chatbot:\", response)\n",
    "\n",
    "# Step 7: Run the chatbot function\n",
    "create_chatbot()\n"
   ]
  },
  {
   "cell_type": "code",
   "execution_count": null,
   "id": "99a43a7d-2ac6-4ad1-8720-0779ff18102a",
   "metadata": {},
   "outputs": [],
   "source": []
  }
 ],
 "metadata": {
  "kernelspec": {
   "display_name": "Python [conda env:base] *",
   "language": "python",
   "name": "conda-base-py"
  },
  "language_info": {
   "codemirror_mode": {
    "name": "ipython",
    "version": 3
   },
   "file_extension": ".py",
   "mimetype": "text/x-python",
   "name": "python",
   "nbconvert_exporter": "python",
   "pygments_lexer": "ipython3",
   "version": "3.12.7"
  }
 },
 "nbformat": 4,
 "nbformat_minor": 5
}
